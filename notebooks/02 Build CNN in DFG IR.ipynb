{
 "cells": [
  {
   "cell_type": "markdown",
   "metadata": {},
   "source": [
    "# Build CNN with DFG IR\n",
    "\n",
    "This tutorial illustrates how to construct a Convolutional Neural Network (CNN) by using a framework-independent **Intermediate Representation** (IR) that describes **Data-Flow Graph** (DFG). This IR contains primitives that describe nodes and their connections in the DFG and what operations will these nodes process. Nodes in DFG also carry auxilliary information that directs further optimisation, such as design space exploration.\n",
    "\n",
    "We will walk through the basic syntax of the IR, present how the CNN built with the IR can be visualised and verified, and show the instructions to train in a TensorFlow back-end. Next tutorials will discuss how CNN described in the DFG IR can be deployed on embedded FPGA devices."
   ]
  },
  {
   "cell_type": "code",
   "execution_count": 1,
   "metadata": {},
   "outputs": [
    {
     "name": "stderr",
     "output_type": "stream",
     "text": [
      "/home/weizou/learn_keras/venv/lib/python3.6/site-packages/h5py/__init__.py:36: FutureWarning: Conversion of the second argument of issubdtype from `float` to `np.floating` is deprecated. In future, it will be treated as `np.float64 == np.dtype(float).type`.\n",
      "  from ._conv import register_converters as _register_converters\n"
     ]
    }
   ],
   "source": [
    "import tensorflow as tf"
   ]
  },
  {
   "cell_type": "markdown",
   "metadata": {},
   "source": [
    "## DFG IR Syntax\n",
    "**DFG IR** file structure is very simple, it has a name attribute, and node attribute. \n",
    "node can be repeated more than one, name can only have one.\n",
    "\n",
    "For example:\n",
    "```\n",
    "name: \"test\"\n",
    "node {\n",
    "  name: \"img_input\"\n",
    "  op: \"Input\"\n",
    "  device: CPU\n",
    "  type: T_FLOAT\n",
    "  input_op_param {\n",
    "    shape {\n",
    "      dim: 32\n",
    "      dim: 1\n",
    "      dim: 28\n",
    "      dim: 28\n",
    "    }\n",
    "  }\n",
    "}\n",
    "node {\n",
    "  name: \"conv1\"\n",
    "  input: \"img_input\"\n",
    "  op: \"Conv2D\"\n",
    "  device: CPU\n",
    "  type: T_FLOAT\n",
    "  conv2d_op_param {\n",
    "    depth: 32\n",
    "    kernel_size: 5\n",
    "    pad: 2\n",
    "    stride: 1\n",
    "    activation_fn: \"Relu\"\n",
    "    use_bias: true\n",
    "  }\n",
    "}\n",
    "```\n",
    "In node:\n",
    "- ``name``: Used to specify the name of the node.\n",
    "- ``op``: Used to specify node's Operation type.\n",
    "- ``device``: Specifies the execution device for node, such as ``CPU``, ``GPU``, ``FPGA``.\n",
    "- ``type``: Used to specify node's data type.\n",
    "- ``input``: Used to specify the input of the current node.\n",
    "- ``xxx_op_param``: is a private parameter of node. It has various parameters that only belong to this op. \n",
    "  Its name follows the rules of xxx_op_param, xxx is the lowercase of the node's op value, followed by a fixed format. \n",
    "  The exception is ``MaxPool2D``, which is ``max_pool2d_op_param``."
   ]
  },
  {
   "cell_type": "markdown",
   "metadata": {},
   "source": [
    "### Input Node\n",
    "If you want to construct an input like tf.placeholder for Tensorflow:\n"
   ]
  },
  {
   "cell_type": "code",
   "execution_count": 2,
   "metadata": {},
   "outputs": [
    {
     "name": "stdout",
     "output_type": "stream",
     "text": [
      "Tensorflow:  Tensor(\"img_input:0\", shape=(1, 28, 28, 3), dtype=float32)\n"
     ]
    }
   ],
   "source": [
    "img_input = tf.placeholder(tf.float32, shape=[1, 28, 28, 3], name='img_input')\n",
    "print(\"Tensorflow: \", img_input)"
   ]
  },
  {
   "cell_type": "code",
   "execution_count": 3,
   "metadata": {},
   "outputs": [
    {
     "name": "stdout",
     "output_type": "stream",
     "text": [
      "DFG IR:  Tensor(\"img_input_1:0\", shape=(1, 28, 28, 3), dtype=float32)\n",
      "------------------------------\n",
      "DFG IR pbtxt\n",
      "name: \"img_input\"\n",
      "op: \"Input\"\n",
      "device: CPU\n",
      "type: T_FLOAT\n",
      "input_op_param {\n",
      "  shape {\n",
      "    dim: 1\n",
      "    dim: 28\n",
      "    dim: 28\n",
      "    dim: 3\n",
      "  }\n",
      "}\n",
      "\n"
     ]
    }
   ],
   "source": [
    "# Use DFG IR\n",
    "from plumber.dfg.nodes import DFGInputNode\n",
    "\n",
    "input_node = DFGInputNode('img_input', shape=[1, 28, 28, 3])\n",
    "print(\"DFG IR: \", input_node.tf_api())\n",
    "print(\"------------------------------\")\n",
    "print(\"DFG IR pbtxt\")\n",
    "print(input_node.as_dfg_node_def())"
   ]
  },
  {
   "cell_type": "markdown",
   "metadata": {},
   "source": [
    "### Conv2D Node\n",
    "- depth: Integer, the dimensionality of the output space.\n",
    "- kernel_size: Integer, specifying the height and width of the 2D convolution window. We currently only support the same size kernel_size.\n",
    "- pad: Integer, “valid” is 0, “same” is 1.\n",
    "- stride: Integer, specifying the strides of the convolution along the height and width. We currently only support the same stride value.\n",
    "- activation_fn: String, Activate the function name. If it is not needed, fill in the null character."
   ]
  },
  {
   "cell_type": "code",
   "execution_count": 4,
   "metadata": {},
   "outputs": [
    {
     "name": "stdout",
     "output_type": "stream",
     "text": [
      "Tensor(\"conv1/BiasAdd:0\", shape=(1, 28, 28, 32), dtype=float32)\n"
     ]
    }
   ],
   "source": [
    "conv1 = tf.layers.conv2d(img_input, 32, 5, padding='same', name=\"conv1\")\n",
    "print(conv1)"
   ]
  },
  {
   "cell_type": "code",
   "execution_count": 6,
   "metadata": {},
   "outputs": [
    {
     "name": "stdout",
     "output_type": "stream",
     "text": [
      "DFG IR:  Tensor(\"conv1_1_1/Relu:0\", shape=(1, 28, 28, 32), dtype=float32)\n",
      "------------------------------\n",
      "DFG IR pbtxt\n",
      "name: \"conv1_1\"\n",
      "op: \"Conv2D\"\n",
      "device: CPU\n",
      "type: T_FLOAT\n",
      "conv2d_op_param {\n",
      "  depth: 32\n",
      "  kernel_size: 5\n",
      "  pad: 1\n",
      "  stride: 1\n",
      "  activation_fn: \"Relu\"\n",
      "  use_maxpool_2x2: false\n",
      "  use_batch_norm: false\n",
      "  use_bias: false\n",
      "  use_relu: true\n",
      "}\n",
      "\n"
     ]
    }
   ],
   "source": [
    "# Use DFG IR\n",
    "from plumber.dfg.nodes import DFGConv2DNode\n",
    "\n",
    "conv1_node = DFGConv2DNode('conv1_1', num_filters=32, kernel_size=5, padding=1, stride=1, activation=\"Relu\")\n",
    "print(\"DFG IR: \", conv1_node.tf_api(img_input))\n",
    "print(\"------------------------------\")\n",
    "print(\"DFG IR pbtxt\")\n",
    "print(conv1_node.as_dfg_node_def())"
   ]
  },
  {
   "cell_type": "markdown",
   "metadata": {},
   "source": [
    "## Visualising DFG IR"
   ]
  },
  {
   "cell_type": "code",
   "execution_count": 11,
   "metadata": {},
   "outputs": [
    {
     "name": "stdout",
     "output_type": "stream",
     "text": [
      "name: \"CNN_MNIST\"\n",
      "node {\n",
      "  name: \"img_input\"\n",
      "  op: \"Input\"\n",
      "  device: CPU\n",
      "  type: T_FLOAT\n",
      "  input_op_param {\n",
      "    shape {\n",
      "      dim: 1\n",
      "      dim: 28\n",
      "      dim: 28\n",
      "      dim: 1\n",
      "    }\n",
      "  }\n",
      "}\n",
      "node {\n",
      "  name: \"conv1\"\n",
      "  input: \"img_input\"\n",
      "  op: \"Conv2D\"\n",
      "  device: CPU\n",
      "  type: T_FLOAT\n",
      "  conv2d_op_param {\n",
      "    depth: 32\n",
      "    kernel_size: 5\n",
      "    pad: 2\n",
      "    stride: 1\n",
      "    activation_fn: \"Relu\"\n",
      "    use_bias: true\n",
      "  }\n",
      "}\n",
      "node {\n",
      "  name: \"pool1\"\n",
      "  input: \"conv1\"\n",
      "  op: \"MaxPool2D\"\n",
      "  device: CPU\n",
      "  type: T_FLOAT\n",
      "  max_pool2d_op_param {\n",
      "    kernel_size: 2\n",
      "    stride: 2\n",
      "  }\n",
      "}\n",
      "node {\n",
      "  name: \"conv2\"\n",
      "  input: \"pool1\"\n",
      "  op: \"Conv2D\"\n",
      "  device: CPU\n",
      "  type: T_FLOAT\n",
      "  conv2d_op_param {\n",
      "    depth: 64\n",
      "    kernel_size: 5\n",
      "    pad: 2\n",
      "    stride: 1\n",
      "    activation_fn: \"Relu\"\n",
      "    use_bias: true\n",
      "  }\n",
      "}\n",
      "node {\n",
      "  name: \"pool2\"\n",
      "  input: \"conv2\"\n",
      "  op: \"MaxPool2D\"\n",
      "  device: CPU\n",
      "  type: T_FLOAT\n",
      "  max_pool2d_op_param {\n",
      "    kernel_size: 2\n",
      "    stride: 2\n",
      "  }\n",
      "}\n",
      "node {\n",
      "  name: \"flatten\"\n",
      "  input: \"pool2\"\n",
      "  op: \"Flatten\"\n",
      "  device: CPU\n",
      "  type: T_FLOAT\n",
      "}\n",
      "node {\n",
      "  name: \"fc3\"\n",
      "  input: \"flatten\"\n",
      "  op: \"FullyConnected\"\n",
      "  device: CPU\n",
      "  type: T_FLOAT\n",
      "  fullyconnected_op_param {\n",
      "    rows: 1024\n",
      "    activation_fn: \"Relu\"\n",
      "  }\n",
      "}\n",
      "node {\n",
      "  name: \"fc4\"\n",
      "  input: \"fc3\"\n",
      "  op: \"FullyConnected\"\n",
      "  device: CPU\n",
      "  type: T_FLOAT\n",
      "  fullyconnected_op_param {\n",
      "    rows: 10\n",
      "    activation_fn: \"\"\n",
      "  }\n",
      "}\n"
     ]
    }
   ],
   "source": [
    "with open('mnist.pbtxt', 'r') as f:\n",
    "    print(f.read())"
   ]
  },
  {
   "cell_type": "markdown",
   "metadata": {},
   "source": [
    "## Verifying DFG IR"
   ]
  },
  {
   "cell_type": "markdown",
   "metadata": {},
   "source": [
    "## Training by TensorFlow"
   ]
  },
  {
   "cell_type": "code",
   "execution_count": 10,
   "metadata": {},
   "outputs": [
    {
     "name": "stdout",
     "output_type": "stream",
     "text": [
      "img_input Placeholder []\n",
      "conv1/weights/Initializer/random_uniform/shape Const []\n",
      "conv1/weights/Initializer/random_uniform/min Const []\n",
      "conv1/weights/Initializer/random_uniform/max Const []\n",
      "conv1/weights/Initializer/random_uniform/RandomUniform RandomUniform ['conv1/weights/Initializer/random_uniform/shape']\n",
      "conv1/weights/Initializer/random_uniform/sub Sub ['conv1/weights/Initializer/random_uniform/max', 'conv1/weights/Initializer/random_uniform/min']\n",
      "conv1/weights/Initializer/random_uniform/mul Mul ['conv1/weights/Initializer/random_uniform/RandomUniform', 'conv1/weights/Initializer/random_uniform/sub']\n",
      "conv1/weights/Initializer/random_uniform Add ['conv1/weights/Initializer/random_uniform/mul', 'conv1/weights/Initializer/random_uniform/min']\n",
      "conv1/weights VariableV2 []\n",
      "conv1/weights/Assign Assign ['conv1/weights', 'conv1/weights/Initializer/random_uniform']\n",
      "conv1/weights/read Identity ['conv1/weights']\n",
      "conv1/biases/Initializer/zeros Const []\n",
      "conv1/biases VariableV2 []\n",
      "conv1/biases/Assign Assign ['conv1/biases', 'conv1/biases/Initializer/zeros']\n",
      "conv1/biases/read Identity ['conv1/biases']\n",
      "conv1/dilation_rate Const []\n",
      "conv1/Conv2D Conv2D ['img_input', 'conv1/weights/read']\n",
      "conv1/BiasAdd BiasAdd ['conv1/Conv2D', 'conv1/biases/read']\n",
      "conv1/Relu Relu ['conv1/BiasAdd']\n",
      "pool1/MaxPool MaxPool ['conv1/Relu']\n",
      "conv2/weights/Initializer/random_uniform/shape Const []\n",
      "conv2/weights/Initializer/random_uniform/min Const []\n",
      "conv2/weights/Initializer/random_uniform/max Const []\n",
      "conv2/weights/Initializer/random_uniform/RandomUniform RandomUniform ['conv2/weights/Initializer/random_uniform/shape']\n",
      "conv2/weights/Initializer/random_uniform/sub Sub ['conv2/weights/Initializer/random_uniform/max', 'conv2/weights/Initializer/random_uniform/min']\n",
      "conv2/weights/Initializer/random_uniform/mul Mul ['conv2/weights/Initializer/random_uniform/RandomUniform', 'conv2/weights/Initializer/random_uniform/sub']\n",
      "conv2/weights/Initializer/random_uniform Add ['conv2/weights/Initializer/random_uniform/mul', 'conv2/weights/Initializer/random_uniform/min']\n",
      "conv2/weights VariableV2 []\n",
      "conv2/weights/Assign Assign ['conv2/weights', 'conv2/weights/Initializer/random_uniform']\n",
      "conv2/weights/read Identity ['conv2/weights']\n",
      "conv2/biases/Initializer/zeros Const []\n",
      "conv2/biases VariableV2 []\n",
      "conv2/biases/Assign Assign ['conv2/biases', 'conv2/biases/Initializer/zeros']\n",
      "conv2/biases/read Identity ['conv2/biases']\n",
      "conv2/dilation_rate Const []\n",
      "conv2/Conv2D Conv2D ['pool1/MaxPool', 'conv2/weights/read']\n",
      "conv2/BiasAdd BiasAdd ['conv2/Conv2D', 'conv2/biases/read']\n",
      "conv2/Relu Relu ['conv2/BiasAdd']\n",
      "pool2/MaxPool MaxPool ['conv2/Relu']\n",
      "flatten/flatten/Shape Const []\n",
      "flatten/flatten/strided_slice/stack Const []\n",
      "flatten/flatten/strided_slice/stack_1 Const []\n",
      "flatten/flatten/strided_slice/stack_2 Const []\n",
      "flatten/flatten/strided_slice StridedSlice ['flatten/flatten/Shape', 'flatten/flatten/strided_slice/stack', 'flatten/flatten/strided_slice/stack_1', 'flatten/flatten/strided_slice/stack_2']\n",
      "flatten/flatten/Reshape/shape/1 Const []\n",
      "flatten/flatten/Reshape/shape Pack ['flatten/flatten/strided_slice', 'flatten/flatten/Reshape/shape/1']\n",
      "flatten/flatten/Reshape Reshape ['pool2/MaxPool', 'flatten/flatten/Reshape/shape']\n",
      "fc3/weights/Initializer/random_uniform/shape Const []\n",
      "fc3/weights/Initializer/random_uniform/min Const []\n",
      "fc3/weights/Initializer/random_uniform/max Const []\n",
      "fc3/weights/Initializer/random_uniform/RandomUniform RandomUniform ['fc3/weights/Initializer/random_uniform/shape']\n",
      "fc3/weights/Initializer/random_uniform/sub Sub ['fc3/weights/Initializer/random_uniform/max', 'fc3/weights/Initializer/random_uniform/min']\n",
      "fc3/weights/Initializer/random_uniform/mul Mul ['fc3/weights/Initializer/random_uniform/RandomUniform', 'fc3/weights/Initializer/random_uniform/sub']\n",
      "fc3/weights/Initializer/random_uniform Add ['fc3/weights/Initializer/random_uniform/mul', 'fc3/weights/Initializer/random_uniform/min']\n",
      "fc3/weights VariableV2 []\n",
      "fc3/weights/Assign Assign ['fc3/weights', 'fc3/weights/Initializer/random_uniform']\n",
      "fc3/weights/read Identity ['fc3/weights']\n",
      "fc3/biases/Initializer/zeros Const []\n",
      "fc3/biases VariableV2 []\n",
      "fc3/biases/Assign Assign ['fc3/biases', 'fc3/biases/Initializer/zeros']\n",
      "fc3/biases/read Identity ['fc3/biases']\n",
      "fc3/MatMul MatMul ['flatten/flatten/Reshape', 'fc3/weights/read']\n",
      "fc3/BiasAdd BiasAdd ['fc3/MatMul', 'fc3/biases/read']\n",
      "fc3/Relu Relu ['fc3/BiasAdd']\n",
      "fc4/weights/Initializer/random_uniform/shape Const []\n",
      "fc4/weights/Initializer/random_uniform/min Const []\n",
      "fc4/weights/Initializer/random_uniform/max Const []\n",
      "fc4/weights/Initializer/random_uniform/RandomUniform RandomUniform ['fc4/weights/Initializer/random_uniform/shape']\n",
      "fc4/weights/Initializer/random_uniform/sub Sub ['fc4/weights/Initializer/random_uniform/max', 'fc4/weights/Initializer/random_uniform/min']\n",
      "fc4/weights/Initializer/random_uniform/mul Mul ['fc4/weights/Initializer/random_uniform/RandomUniform', 'fc4/weights/Initializer/random_uniform/sub']\n",
      "fc4/weights/Initializer/random_uniform Add ['fc4/weights/Initializer/random_uniform/mul', 'fc4/weights/Initializer/random_uniform/min']\n",
      "fc4/weights VariableV2 []\n",
      "fc4/weights/Assign Assign ['fc4/weights', 'fc4/weights/Initializer/random_uniform']\n",
      "fc4/weights/read Identity ['fc4/weights']\n",
      "fc4/biases/Initializer/zeros Const []\n",
      "fc4/biases VariableV2 []\n",
      "fc4/biases/Assign Assign ['fc4/biases', 'fc4/biases/Initializer/zeros']\n",
      "fc4/biases/read Identity ['fc4/biases']\n",
      "fc4/MatMul MatMul ['fc3/Relu', 'fc4/weights/read']\n",
      "fc4/BiasAdd BiasAdd ['fc4/MatMul', 'fc4/biases/read']\n"
     ]
    }
   ],
   "source": [
    "import tensorflow as tf\n",
    "from plumber.utils import dfg_to_tf\n",
    "\n",
    "graph = tf.Graph()\n",
    "graph, output_nodes = dfg_to_tf('mnist.pbtxt', graph)\n",
    "with tf.Session(graph=graph) as sess:\n",
    "    graph_def = graph.as_graph_def()\n",
    "    for node in graph_def.node:\n",
    "        print(node.name, node.op, list(node.input))"
   ]
  }
 ],
 "metadata": {
  "kernelspec": {
   "display_name": "Python 3",
   "language": "python",
   "name": "python3"
  },
  "language_info": {
   "codemirror_mode": {
    "name": "ipython",
    "version": 3
   },
   "file_extension": ".py",
   "mimetype": "text/x-python",
   "name": "python",
   "nbconvert_exporter": "python",
   "pygments_lexer": "ipython3",
   "version": "3.6.4"
  }
 },
 "nbformat": 4,
 "nbformat_minor": 2
}
