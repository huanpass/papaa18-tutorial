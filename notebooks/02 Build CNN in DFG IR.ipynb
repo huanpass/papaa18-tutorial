{
 "cells": [
  {
   "cell_type": "markdown",
   "metadata": {},
   "source": [
    "# Build CNN with DFG IR\n",
    "\n",
    "This tutorial illustrates how to construct a Convolutional Neural Network (CNN) by using a framework-independent **Intermediate Representation** (IR) that describes **Data-Flow Graph** (DFG). This IR contains primitives that describe nodes and their connections in the DFG and what operations will these nodes process. Nodes in DFG also carry auxilliary information that directs further optimisation, such as design space exploration.\n",
    "\n",
    "We will walk through the basic syntax of the IR, present how the CNN built with the IR can be visualised and verified, and show the instructions to train in a TensorFlow back-end. Next tutorials will discuss how CNN described in the DFG IR can be deployed on embedded FPGA devices."
   ]
  },
  {
   "cell_type": "code",
   "execution_count": 3,
   "metadata": {
    "collapsed": true
   },
   "outputs": [],
   "source": [
    "import plumber as plb"
   ]
  },
  {
   "cell_type": "markdown",
   "metadata": {},
   "source": [
    "## DFG IR Syntax"
   ]
  },
  {
   "cell_type": "markdown",
   "metadata": {},
   "source": [
    "## Visualising DFG IR"
   ]
  },
  {
   "cell_type": "markdown",
   "metadata": {},
   "source": [
    "## Verifying DFG IR"
   ]
  },
  {
   "cell_type": "markdown",
   "metadata": {},
   "source": [
    "## Training by TensorFlow"
   ]
  },
  {
   "cell_type": "code",
   "execution_count": null,
   "metadata": {
    "collapsed": true
   },
   "outputs": [],
   "source": []
  }
 ],
 "metadata": {
  "kernelspec": {
   "display_name": "Python 3",
   "language": "python",
   "name": "python3"
  },
  "language_info": {
   "codemirror_mode": {
    "name": "ipython",
    "version": 3
   },
   "file_extension": ".py",
   "mimetype": "text/x-python",
   "name": "python",
   "nbconvert_exporter": "python",
   "pygments_lexer": "ipython3",
   "version": "3.6.5"
  }
 },
 "nbformat": 4,
 "nbformat_minor": 2
}
