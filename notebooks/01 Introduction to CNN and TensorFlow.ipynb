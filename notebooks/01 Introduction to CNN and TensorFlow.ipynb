{
 "cells": [
  {
   "cell_type": "markdown",
   "metadata": {},
   "source": [
    "# Introduction to CNN and TensorFlow\n",
    "\n",
    "This tutorial gives a very brief introduction of Convolutional Neural Network (CNN) and TensorFlow. Comparing with existing tutorials on TensorFlow and CNN, which are enormous, this tutorial focuses more on the mechanism behind TensorFlow. We elaborate based on the concept of computation graph, which TensorFlow uses to define, execute, and restore computation, not only for CNN, but also for general tasks.\n",
    "\n",
    "This tutorial is organised as follows:\n",
    "\n",
    "1. [Basic TensorFlow usage](#Basic-TensorFlow-Usage)\n",
    "2. [Computaion Graph in TensorFlow](#Computation-Graph-in-TensorFlow)\n",
    "3. [CNN as computation graph](#CNN-as-Computation-Graph)\n",
    "\n",
    "Our tutorial is targeting at the **graph execution** mode of TensorFlow, in contrast to **eager execution**, which is introduced by recent TensorFlow releases to perform computation on-the-fly, without building the computation graph at first.\n",
    "\n",
    "Only the **inference** task is covered in this tutorial.\n",
    "\n",
    "In the following tutorials, we will feed the TensorFlow models we build and store here for further processing."
   ]
  },
  {
   "cell_type": "code",
   "execution_count": 1,
   "metadata": {
    "collapsed": true
   },
   "outputs": [],
   "source": [
    "%matplotlib inline\n",
    "\n",
    "import numpy as np\n",
    "import matplotlib.pyplot as plt"
   ]
  },
  {
   "cell_type": "markdown",
   "metadata": {
    "collapsed": true
   },
   "source": [
    "## Basic TensorFlow Usage\n",
    "\n",
    "TensorFlow is, on the one hand, a famous machine learning framework on which developers can easily build their models, while on the other hand, a **Domain-Specific Language** (DSL) embedded in Python. As a DSL, TensorFlow provides *primitives*, or APIs, to construct computation graphs for machine learning models. Therefore, in this tutorial, we introduce TensorFlow as a programming language: we first present elements of a typical programming language from TensorFlow, such as syntax, variables, data types, literals, and operators; next, show how a program constructed by TensorFlow can be executed; in the end, there will be a short list of tips and tricks about using TensorFlow.\n",
    "\n",
    "We will look into the mechanism of computation graph in TensorFlow in the following sections."
   ]
  },
  {
   "cell_type": "markdown",
   "metadata": {},
   "source": [
    "### Basic Syntax\n",
    "\n",
    "Assuming you have already installed TensorFlow (if not, please follow this [tutorial](https://www.tensorflow.org/install/)), the last step before using TensorFlow is importing it in Python, as shown below."
   ]
  },
  {
   "cell_type": "code",
   "execution_count": 2,
   "metadata": {
    "collapsed": true
   },
   "outputs": [],
   "source": [
    "# import tensorflow and set its alias as \"tf\"\n",
    "import tensorflow as tf"
   ]
  },
  {
   "cell_type": "markdown",
   "metadata": {},
   "source": [
    "The basic element you can operate on in the TensorFlow DSL is **tensor**, as documented in [tf.Tensor](https://www.tensorflow.org/api_docs/python/tf/Tensor). Informally speaking, a tensor is a *N*-dimensional array, similar to [ndarray](https://docs.scipy.org/doc/numpy-1.14.0/reference/generated/numpy.ndarray.html) in NumPy. Below is an example that shows how to build tensor from a constant."
   ]
  },
  {
   "cell_type": "code",
   "execution_count": 3,
   "metadata": {},
   "outputs": [
    {
     "data": {
      "text/plain": [
       "<tf.Tensor 'Const:0' shape=(2, 2) dtype=float32>"
      ]
     },
     "execution_count": 3,
     "metadata": {},
     "output_type": "execute_result"
    }
   ],
   "source": [
    "tf.constant([[1.0, 2.0], [3.0, 4.0]])"
   ]
  },
  {
   "cell_type": "markdown",
   "metadata": {},
   "source": [
    "Besides constants, you can create **variable** tensors, see this [document](https://www.tensorflow.org/programmers_guide/variables) for more details. A variable can be created with the name and shape through `get_variable`, as shown below. Tensor name should be unique in its [name scope](https://www.tensorflow.org/api_docs/python/tf/name_scope)."
   ]
  },
  {
   "cell_type": "code",
   "execution_count": 4,
   "metadata": {},
   "outputs": [
    {
     "data": {
      "text/plain": [
       "<tf.Variable 'a:0' shape=(2, 2) dtype=float32_ref>"
      ]
     },
     "execution_count": 4,
     "metadata": {},
     "output_type": "execute_result"
    }
   ],
   "source": [
    "tf.get_variable('a', [2, 2])"
   ]
  },
  {
   "cell_type": "markdown",
   "metadata": {},
   "source": [
    "Then, we can build **computation** use [operators](https://www.tensorflow.org/api_docs/python/tf/Operation) specified by TensorFlow. `tf.matmul` is an intuitive example which performs matrix multiplication among two 2-D tensors (matrices). The object returned from a TensorFlow operator is a tensor that holds the operation's result."
   ]
  },
  {
   "cell_type": "code",
   "execution_count": 5,
   "metadata": {},
   "outputs": [
    {
     "data": {
      "text/plain": [
       "<tf.Tensor 'MatMul:0' shape=(2, 2) dtype=float32>"
      ]
     },
     "execution_count": 5,
     "metadata": {},
     "output_type": "execute_result"
    }
   ],
   "source": [
    "tf.matmul(tf.constant([[1.0, 2.0], [3.0, 4.0]]), tf.constant([[1.0, 2.0], [3.0, 4.0]]))"
   ]
  },
  {
   "cell_type": "markdown",
   "metadata": {},
   "source": [
    "To run the computation, i.e., get the content of tensors, we need to use `tf.Session` (see [here](https://www.tensorflow.org/api_docs/python/tf/Session)) to initialise an environment to execute the program constructed by TensorFlow. We will not dive into details about session.\n",
    "\n",
    "Note that each variable should be properly initialised in a session. The example below uses `random_normal_initializer` to initialse the content of tensor `b` with random values distributed in normal distribution."
   ]
  },
  {
   "cell_type": "code",
   "execution_count": 6,
   "metadata": {},
   "outputs": [
    {
     "name": "stdout",
     "output_type": "stream",
     "text": [
      "[[ 0.58602434 -2.4069633 ]\n",
      " [ 1.2518833  -5.739593  ]]\n"
     ]
    }
   ],
   "source": [
    "a = tf.constant([[1.0, 2.0], [3.0, 4.0]])\n",
    "b = tf.get_variable('b', [2, 2], initializer=tf.random_normal_initializer())\n",
    "c = tf.matmul(a, b)\n",
    "\n",
    "with tf.Session() as sess:\n",
    "    sess.run(tf.global_variables_initializer())\n",
    "    print(sess.run(c))"
   ]
  },
  {
   "cell_type": "markdown",
   "metadata": {},
   "source": [
    "## Computation Graph in TensorFlow\n",
    "\n",
    "Almost every computer program can be represented in a computation graph. A program constructed by TensorFlow explicitly initialises its computation graph. The computation graph built by TensorFlow is a [dataflow graph](https://www.tensorflow.org/programmers_guide/graphs#why_dataflow_graphs), in which each node represents computation (or operation) and each edge is data. The gif below shows how the dataflow graph constructed for a two layer MLP (**M**ulti-**L**ayer **P**erceptron). In the first layer, The input data will first go through matrix multiplication (`tf.matmul`), bias vector addition (`BiasAdd`), and non-linear activation (`tf.nn.relu`). The second layer processes the output data in the same setting except the ReLU activation. Weights and bias vectors are variable tensors. Note that nodes for training (`Gradients`, `Update`) are also initialised in this graph.\n",
    "\n",
    "![](https://www.tensorflow.org/images/tensors_flowing.gif)"
   ]
  },
  {
   "cell_type": "markdown",
   "metadata": {},
   "source": [
    "### Access Graph Contents\n",
    "\n",
    "The purpose of this tutorial is mainly to understand the mechanism in TensorFlow for further optimisation and deployment. In this sense it is necessary to access the contents within the graph we construct. Suppose we build a graph that do exactly the same computation as the animated figure illustrates, from `Input` to `Softmax`."
   ]
  },
  {
   "cell_type": "code",
   "execution_count": 7,
   "metadata": {
    "collapsed": true
   },
   "outputs": [],
   "source": [
    "g = tf.Graph() # build a new graph\n",
    "with g.as_default():\n",
    "    input_tensor = tf.placeholder(tf.float32, [28, 28, 1])\n",
    "    x = tf.reshape(input_tensor, [1, 784], name='x')\n",
    "    \n",
    "    # The first perceptron layer\n",
    "    W1 = tf.get_variable('W1', [784, 1024])\n",
    "    b1 = tf.get_variable('b1', [1024])\n",
    "    y1 = tf.nn.relu(tf.nn.bias_add(tf.matmul(x, W1), b1), name='y1')\n",
    "    # The second perceptron layer\n",
    "    W2 = tf.get_variable('W2', [1024, 10])\n",
    "    b2 = tf.get_variable('b2', [10])\n",
    "    y2 = tf.nn.bias_add(tf.matmul(y1, W2), b2, name='y2')\n",
    "    \n",
    "    logits = tf.nn.softmax(y2, name='logits') # softmax output is named as \"logits\""
   ]
  },
  {
   "cell_type": "markdown",
   "metadata": {},
   "source": [
    "TensorFlow puts all graph related information in the `tf.Graph` [class](https://www.tensorflow.org/api_docs/python/tf/Graph), as the object `g` in the example above. This graph object holds the definition of the graph as [`GraphDef`](https://www.tensorflow.org/api_docs/python/tf/GraphDef), which can be accessed by `as_graph_def()`. You can iterate through every node in the `GraphDef` by its `node` property. Each node has `name`, `op` for operation name, `input` for a list of names of nodes that are input to the current node, and other accessible properties. In the example below, we output the properties of every `MatMul` nodes. The syntax of node definition is [Protocol Buffers](https://developers.google.com/protocol-buffers/), please see their document for more details."
   ]
  },
  {
   "cell_type": "code",
   "execution_count": 8,
   "metadata": {},
   "outputs": [
    {
     "name": "stdout",
     "output_type": "stream",
     "text": [
      "name: \"MatMul\"\n",
      "op: \"MatMul\"\n",
      "input: \"x\"\n",
      "input: \"W1/read\"\n",
      "attr {\n",
      "  key: \"T\"\n",
      "  value {\n",
      "    type: DT_FLOAT\n",
      "  }\n",
      "}\n",
      "attr {\n",
      "  key: \"transpose_a\"\n",
      "  value {\n",
      "    b: false\n",
      "  }\n",
      "}\n",
      "attr {\n",
      "  key: \"transpose_b\"\n",
      "  value {\n",
      "    b: false\n",
      "  }\n",
      "}\n",
      "\n",
      "name: \"MatMul_1\"\n",
      "op: \"MatMul\"\n",
      "input: \"y1\"\n",
      "input: \"W2/read\"\n",
      "attr {\n",
      "  key: \"T\"\n",
      "  value {\n",
      "    type: DT_FLOAT\n",
      "  }\n",
      "}\n",
      "attr {\n",
      "  key: \"transpose_a\"\n",
      "  value {\n",
      "    b: false\n",
      "  }\n",
      "}\n",
      "attr {\n",
      "  key: \"transpose_b\"\n",
      "  value {\n",
      "    b: false\n",
      "  }\n",
      "}\n",
      "\n"
     ]
    }
   ],
   "source": [
    "graph_def = g.as_graph_def()\n",
    "for node in graph_def.node:\n",
    "    if node.op == 'MatMul':\n",
    "        print(node)"
   ]
  },
  {
   "cell_type": "markdown",
   "metadata": {},
   "source": [
    "Besides accessing node definitions, we can read the content of each tensor instance in the graph through the `get_tensor_by_name` method of `tf.Graph`. This method returns a `Tensor` object, and we can read its content by passing it to `sess.run`. Note that the tensor name is not exactly the corresponding node name: we need to append [device placement](https://www.tensorflow.org/programmers_guide/graphs#placing_operations_on_different_devices). In the example below, the weight `W1` is placed on the device with index `0`."
   ]
  },
  {
   "cell_type": "code",
   "execution_count": 9,
   "metadata": {},
   "outputs": [
    {
     "name": "stdout",
     "output_type": "stream",
     "text": [
      "[[-0.01636679 -0.04125804  0.05343387 ...  0.04341394 -0.0394444\n",
      "   0.02888383]\n",
      " [-0.05757726  0.02527522  0.01270559 ...  0.02965095 -0.04905505\n",
      "   0.00634755]\n",
      " [-0.00802621 -0.01814369  0.01436635 ... -0.05404763  0.05290242\n",
      "   0.00179929]\n",
      " ...\n",
      " [-0.03269632 -0.03420536  0.01755435 ... -0.01244298  0.02145734\n",
      "   0.04365443]\n",
      " [-0.0161496   0.05338413  0.03698026 ...  0.03177601 -0.03665597\n",
      "   0.03776949]\n",
      " [-0.05209893  0.01138768 -0.01236968 ...  0.00672408 -0.02997378\n",
      "   0.04065744]]\n"
     ]
    }
   ],
   "source": [
    "with tf.Session(graph=g) as sess: # we need to explicitly set the graph or the default graph will be used.\n",
    "    sess.run(tf.global_variables_initializer())\n",
    "    \n",
    "    # read the content of initialised W1\n",
    "    W1_tensor = g.get_tensor_by_name('W1:0')\n",
    "    print(sess.run(W1_tensor))"
   ]
  },
  {
   "cell_type": "markdown",
   "metadata": {},
   "source": [
    "To read the content of tensors that depends on the `Input` node, which is a placeholder, we need to *feed* contents to it while executing in the session. See this document: https://www.tensorflow.org/api_docs/python/tf/placeholder"
   ]
  },
  {
   "cell_type": "code",
   "execution_count": 10,
   "metadata": {},
   "outputs": [
    {
     "name": "stdout",
     "output_type": "stream",
     "text": [
      "[[0.12104427 0.04355874 0.07649376 0.09408498 0.05950189 0.06208533\n",
      "  0.12013859 0.23126327 0.02497471 0.16685446]]\n"
     ]
    }
   ],
   "source": [
    "with tf.Session(graph=g) as sess:\n",
    "    sess.run(tf.global_variables_initializer())\n",
    "    \n",
    "    # read the final classification result of a random image\n",
    "    logits_tensor = g.get_tensor_by_name('logits:0')\n",
    "    print(sess.run(logits_tensor, feed_dict={input_tensor: np.random.random((28, 28, 1))}))"
   ]
  },
  {
   "cell_type": "markdown",
   "metadata": {},
   "source": [
    "## CNN as Computation Graph\n",
    "\n",
    "Based on previous discussion, we can construct CNN and read its structure and coeffcients in TensorFlow. A CNN can be viewed as a special computation graph that contains **convolutional layer**, which is `tf.nn.conv2d` in TensorFlow (https://www.tensorflow.org/api_docs/python/tf/nn/conv2d). Details in the principles of convolutional layer can be accessed in this [tutorial](http://cs231n.github.io/convolutional-networks/#conv). \n",
    "\n",
    "In a typical CNN, the input and output of each layer are **feature maps**, which are conventionally 3-D tensors (or 4-D if you use batched input). A feature map can be seen as a multi-channel image, which can represent natural image or features extracted from the latent space. The shape of each feature map is $H\\times W \\times C$, in which $H$ and $W$ are height and width of a spatial feature map, and $C$ is the number of image channels. A convolutional layer performs 2D convolution in each spatial feature map, and sum the results together for different output channels. Besides convolutional layer, max pooling layer is also important to reduce the size of feature maps to extract features at higher levels.\n",
    "\n",
    "Here we build an example CNN that can do hand-writen digits classification in TensorFlow. This CNN architecture is known as [LeNet](http://yann.lecun.com/exdb/lenet/). It should be trained on the MNIST dataset. Similar tutorials can be found at https://www.tensorflow.org/tutorials/deep_cnn."
   ]
  },
  {
   "cell_type": "code",
   "execution_count": 11,
   "metadata": {
    "collapsed": true
   },
   "outputs": [],
   "source": [
    "def lenet(images, keep_prob):\n",
    "    \"\"\"\n",
    "    Args:\n",
    "        images: a 4-D tensor that holds batched input images\n",
    "    Return:\n",
    "        A tensor that contains classification probabilities result, and a dictionary\n",
    "        of all intermediate tensors.\n",
    "    \"\"\"    \n",
    "    end_points = {}\n",
    "    end_points['images'] = tf.reshape(images, [-1, 28, 28, 1])\n",
    "\n",
    "    with tf.variable_scope('conv1'):\n",
    "        w1 = tf.get_variable('weights', [5, 5, 1, 32])\n",
    "        b1 = tf.get_variable('biases', [32],\n",
    "                             initializer=tf.zeros_initializer())\n",
    "        end_points['conv1'] = tf.nn.relu(\n",
    "            tf.nn.conv2d(end_points['images'], w1, [1, 1, 1, 1], 'SAME') + b1)\n",
    "    end_points['pool1'] = tf.nn.max_pool(\n",
    "        end_points['conv1'], [1, 2, 2, 1], [1, 2, 2, 1], 'SAME')\n",
    "    \n",
    "    with tf.variable_scope('conv2'):\n",
    "        w2 = tf.get_variable('weights', [5, 5, 32, 64])\n",
    "        b2 = tf.get_variable('biases', [64],\n",
    "                             initializer=tf.zeros_initializer())\n",
    "        end_points['conv2'] = tf.nn.relu(\n",
    "            tf.nn.conv2d(end_points['pool1'], w2, [1, 1, 1, 1], 'SAME') + b2)\n",
    "    end_points['pool2'] = tf.nn.max_pool(\n",
    "        end_points['conv2'], [1, 2, 2, 1], [1, 2, 2, 1], 'SAME')\n",
    "    \n",
    "    end_points['flatten'] = tf.reshape(end_points['pool2'], [-1, 7 * 7 * 64])\n",
    "    with tf.variable_scope('fc3'):\n",
    "        w3 = tf.get_variable('weights', [7 * 7 * 64, 1024])\n",
    "        b3 = tf.get_variable('biases', [1024],\n",
    "                             initializer=tf.zeros_initializer())\n",
    "        end_points['fc3'] = tf.nn.relu(tf.matmul(end_points['flatten'], w3) + b3)\n",
    "        \n",
    "    end_points['dropout'] = tf.nn.dropout(end_points['fc3'], keep_prob)\n",
    "    with tf.variable_scope('fc4'):\n",
    "        w4 = tf.get_variable('weights', [1024, 10])\n",
    "        b4 = tf.get_variable('biases', [10],\n",
    "                             initializer=tf.zeros_initializer())\n",
    "        end_points['fc4'] = tf.matmul(end_points['fc3'], w4) + b4\n",
    "    \n",
    "    return end_points['fc4'], end_points"
   ]
  },
  {
   "cell_type": "markdown",
   "metadata": {},
   "source": [
    "We then train this CNN based on the MNIST dataset (reference: https://www.tensorflow.org/versions/r1.0/get_started/mnist/beginners). Below is the code snippet we use to train the model."
   ]
  },
  {
   "cell_type": "code",
   "execution_count": 12,
   "metadata": {},
   "outputs": [
    {
     "name": "stdout",
     "output_type": "stream",
     "text": [
      "Extracting ../data/MNIST_data/train-images-idx3-ubyte.gz\n",
      "Extracting ../data/MNIST_data/train-labels-idx1-ubyte.gz\n",
      "Extracting ../data/MNIST_data/t10k-images-idx3-ubyte.gz\n",
      "Extracting ../data/MNIST_data/t10k-labels-idx1-ubyte.gz\n",
      "Loss value of a training batch at step     0: 2.272092\n",
      "Accuracy after running     0 steps: 0.098200\n",
      "Loss value of a training batch at step   100: 2.291337\n",
      "Loss value of a training batch at step   200: 2.254262\n",
      "Loss value of a training batch at step   300: 2.271129\n",
      "Loss value of a training batch at step   400: 2.270882\n",
      "Loss value of a training batch at step   500: 2.252652\n",
      "Loss value of a training batch at step   600: 2.220472\n",
      "Loss value of a training batch at step   700: 2.219046\n",
      "Loss value of a training batch at step   800: 2.204627\n",
      "Loss value of a training batch at step   900: 2.211274\n",
      "Loss value of a training batch at step  1000: 2.205071\n",
      "Accuracy after running  1000 steps: 0.434200\n",
      "Loss value of a training batch at step  1100: 2.217518\n",
      "Loss value of a training batch at step  1200: 2.156273\n",
      "Loss value of a training batch at step  1300: 2.189674\n",
      "Loss value of a training batch at step  1400: 2.161802\n",
      "Loss value of a training batch at step  1500: 2.169288\n",
      "Loss value of a training batch at step  1600: 2.151241\n",
      "Loss value of a training batch at step  1700: 2.142624\n",
      "Loss value of a training batch at step  1800: 2.127059\n",
      "Loss value of a training batch at step  1900: 2.084398\n",
      "Loss value of a training batch at step  2000: 2.090031\n",
      "Accuracy after running  2000 steps: 0.629300\n",
      "Loss value of a training batch at step  2100: 2.112322\n",
      "Loss value of a training batch at step  2200: 2.060897\n",
      "Loss value of a training batch at step  2300: 2.032979\n",
      "Loss value of a training batch at step  2400: 2.064638\n",
      "Loss value of a training batch at step  2500: 2.040615\n",
      "Loss value of a training batch at step  2600: 2.053550\n",
      "Loss value of a training batch at step  2700: 1.976818\n",
      "Loss value of a training batch at step  2800: 1.983986\n",
      "Loss value of a training batch at step  2900: 1.989769\n",
      "Loss value of a training batch at step  3000: 1.967710\n",
      "Accuracy after running  3000 steps: 0.714400\n",
      "Loss value of a training batch at step  3100: 1.901442\n",
      "Loss value of a training batch at step  3200: 1.959940\n",
      "Loss value of a training batch at step  3300: 1.917199\n",
      "Loss value of a training batch at step  3400: 1.954271\n",
      "Loss value of a training batch at step  3500: 1.839952\n",
      "Loss value of a training batch at step  3600: 1.838784\n",
      "Loss value of a training batch at step  3700: 1.857384\n",
      "Loss value of a training batch at step  3800: 1.902746\n",
      "Loss value of a training batch at step  3900: 1.835868\n",
      "Loss value of a training batch at step  4000: 1.852537\n",
      "Accuracy after running  4000 steps: 0.757200\n",
      "Loss value of a training batch at step  4100: 1.783903\n",
      "Loss value of a training batch at step  4200: 1.761977\n",
      "Loss value of a training batch at step  4300: 1.724894\n",
      "Loss value of a training batch at step  4400: 1.736925\n",
      "Loss value of a training batch at step  4500: 1.692347\n",
      "Loss value of a training batch at step  4600: 1.677666\n",
      "Loss value of a training batch at step  4700: 1.632892\n",
      "Loss value of a training batch at step  4800: 1.708302\n",
      "Loss value of a training batch at step  4900: 1.689637\n",
      "Loss value of a training batch at step  5000: 1.748880\n",
      "Accuracy after running  5000 steps: 0.781200\n",
      "Loss value of a training batch at step  5100: 1.571712\n",
      "Loss value of a training batch at step  5200: 1.590313\n",
      "Loss value of a training batch at step  5300: 1.597164\n",
      "Loss value of a training batch at step  5400: 1.573363\n",
      "Loss value of a training batch at step  5500: 1.519158\n",
      "Loss value of a training batch at step  5600: 1.450274\n",
      "Loss value of a training batch at step  5700: 1.464609\n",
      "Loss value of a training batch at step  5800: 1.484366\n",
      "Loss value of a training batch at step  5900: 1.395990\n",
      "Loss value of a training batch at step  6000: 1.422245\n",
      "Accuracy after running  6000 steps: 0.799100\n",
      "Loss value of a training batch at step  6100: 1.378582\n",
      "Loss value of a training batch at step  6200: 1.535506\n",
      "Loss value of a training batch at step  6300: 1.313151\n",
      "Loss value of a training batch at step  6400: 1.342918\n",
      "Loss value of a training batch at step  6500: 1.364226\n",
      "Loss value of a training batch at step  6600: 1.262094\n",
      "Loss value of a training batch at step  6700: 1.289735\n",
      "Loss value of a training batch at step  6800: 1.283792\n",
      "Loss value of a training batch at step  6900: 1.280176\n",
      "Loss value of a training batch at step  7000: 1.262677\n",
      "Accuracy after running  7000 steps: 0.809000\n",
      "Loss value of a training batch at step  7100: 1.180509\n",
      "Loss value of a training batch at step  7200: 1.270477\n",
      "Loss value of a training batch at step  7300: 1.226040\n",
      "Loss value of a training batch at step  7400: 1.177263\n",
      "Loss value of a training batch at step  7500: 1.274649\n",
      "Loss value of a training batch at step  7600: 1.130209\n",
      "Loss value of a training batch at step  7700: 1.143178\n",
      "Loss value of a training batch at step  7800: 1.065004\n",
      "Loss value of a training batch at step  7900: 1.078003\n",
      "Loss value of a training batch at step  8000: 1.026783\n",
      "Accuracy after running  8000 steps: 0.818500\n",
      "Loss value of a training batch at step  8100: 1.053263\n",
      "Loss value of a training batch at step  8200: 1.044198\n",
      "Loss value of a training batch at step  8300: 1.113458\n",
      "Loss value of a training batch at step  8400: 1.024762\n",
      "Loss value of a training batch at step  8500: 1.080957\n",
      "Loss value of a training batch at step  8600: 1.135177\n",
      "Loss value of a training batch at step  8700: 1.024210\n",
      "Loss value of a training batch at step  8800: 0.984887\n",
      "Loss value of a training batch at step  8900: 0.827346\n",
      "Loss value of a training batch at step  9000: 1.045435\n",
      "Accuracy after running  9000 steps: 0.828300\n",
      "Loss value of a training batch at step  9100: 0.962692\n",
      "Loss value of a training batch at step  9200: 1.051836\n",
      "Loss value of a training batch at step  9300: 1.011958\n",
      "Loss value of a training batch at step  9400: 0.851952\n",
      "Loss value of a training batch at step  9500: 0.927596\n",
      "Loss value of a training batch at step  9600: 1.041436\n",
      "Loss value of a training batch at step  9700: 0.823394\n",
      "Loss value of a training batch at step  9800: 0.863912\n",
      "Loss value of a training batch at step  9900: 0.728812\n",
      "Loss value of a training batch at step 10000: 0.943951\n",
      "Accuracy after running 10000 steps: 0.834400\n",
      "Loss value of a training batch at step 10100: 0.902378\n",
      "Loss value of a training batch at step 10200: 0.650948\n",
      "Loss value of a training batch at step 10300: 0.766422\n",
      "Loss value of a training batch at step 10400: 0.690768\n",
      "Loss value of a training batch at step 10500: 0.753523\n",
      "Loss value of a training batch at step 10600: 0.823742\n",
      "Loss value of a training batch at step 10700: 0.759728\n",
      "Loss value of a training batch at step 10800: 0.826319\n",
      "Loss value of a training batch at step 10900: 0.760564\n",
      "Loss value of a training batch at step 11000: 0.810561\n",
      "Accuracy after running 11000 steps: 0.845000\n",
      "Loss value of a training batch at step 11100: 0.700904\n",
      "Loss value of a training batch at step 11200: 0.798044\n",
      "Loss value of a training batch at step 11300: 0.763184\n",
      "Loss value of a training batch at step 11400: 0.569579\n",
      "Loss value of a training batch at step 11500: 0.652691\n",
      "Loss value of a training batch at step 11600: 0.628150\n",
      "Loss value of a training batch at step 11700: 0.621088\n",
      "Loss value of a training batch at step 11800: 0.889441\n",
      "Loss value of a training batch at step 11900: 0.722328\n",
      "Loss value of a training batch at step 12000: 0.785903\n",
      "Accuracy after running 12000 steps: 0.853900\n",
      "Loss value of a training batch at step 12100: 0.739241\n",
      "Loss value of a training batch at step 12200: 0.562231\n",
      "Loss value of a training batch at step 12300: 0.568480\n",
      "Loss value of a training batch at step 12400: 0.767892\n",
      "Loss value of a training batch at step 12500: 0.803342\n",
      "Loss value of a training batch at step 12600: 0.598144\n",
      "Loss value of a training batch at step 12700: 0.748746\n",
      "Loss value of a training batch at step 12800: 0.564249\n",
      "Loss value of a training batch at step 12900: 0.625481\n",
      "Loss value of a training batch at step 13000: 0.654081\n",
      "Accuracy after running 13000 steps: 0.860400\n",
      "Loss value of a training batch at step 13100: 0.644981\n",
      "Loss value of a training batch at step 13200: 0.493810\n",
      "Loss value of a training batch at step 13300: 0.672121\n"
     ]
    },
    {
     "name": "stdout",
     "output_type": "stream",
     "text": [
      "Loss value of a training batch at step 13400: 0.640367\n",
      "Loss value of a training batch at step 13500: 0.711528\n",
      "Loss value of a training batch at step 13600: 0.595643\n",
      "Loss value of a training batch at step 13700: 0.700417\n",
      "Loss value of a training batch at step 13800: 0.572912\n",
      "Loss value of a training batch at step 13900: 0.590981\n",
      "Loss value of a training batch at step 14000: 0.523539\n",
      "Accuracy after running 14000 steps: 0.867300\n",
      "Loss value of a training batch at step 14100: 0.647697\n",
      "Loss value of a training batch at step 14200: 0.564996\n",
      "Loss value of a training batch at step 14300: 0.499261\n",
      "Loss value of a training batch at step 14400: 0.655310\n",
      "Loss value of a training batch at step 14500: 0.479925\n",
      "Loss value of a training batch at step 14600: 0.569616\n",
      "Loss value of a training batch at step 14700: 0.540437\n",
      "Loss value of a training batch at step 14800: 0.602443\n",
      "Loss value of a training batch at step 14900: 0.534764\n",
      "Loss value of a training batch at step 15000: 0.629089\n",
      "Accuracy after running 15000 steps: 0.873500\n",
      "Loss value of a training batch at step 15100: 0.600819\n",
      "Loss value of a training batch at step 15200: 0.590917\n",
      "Loss value of a training batch at step 15300: 0.538974\n",
      "Loss value of a training batch at step 15400: 0.517905\n",
      "Loss value of a training batch at step 15500: 0.515531\n",
      "Loss value of a training batch at step 15600: 0.548911\n",
      "Loss value of a training batch at step 15700: 0.459293\n",
      "Loss value of a training batch at step 15800: 0.642689\n",
      "Loss value of a training batch at step 15900: 0.460582\n",
      "Loss value of a training batch at step 16000: 0.666072\n",
      "Accuracy after running 16000 steps: 0.879300\n",
      "Loss value of a training batch at step 16100: 0.476846\n",
      "Loss value of a training batch at step 16200: 0.493611\n",
      "Loss value of a training batch at step 16300: 0.483149\n",
      "Loss value of a training batch at step 16400: 0.364905\n",
      "Loss value of a training batch at step 16500: 0.472060\n",
      "Loss value of a training batch at step 16600: 0.491306\n",
      "Loss value of a training batch at step 16700: 0.330731\n",
      "Loss value of a training batch at step 16800: 0.528514\n",
      "Loss value of a training batch at step 16900: 0.595236\n",
      "Loss value of a training batch at step 17000: 0.339870\n",
      "Accuracy after running 17000 steps: 0.884600\n",
      "Loss value of a training batch at step 17100: 0.546053\n",
      "Loss value of a training batch at step 17200: 0.443179\n",
      "Loss value of a training batch at step 17300: 0.573740\n",
      "Loss value of a training batch at step 17400: 0.423939\n",
      "Loss value of a training batch at step 17500: 0.423746\n",
      "Loss value of a training batch at step 17600: 0.519343\n",
      "Loss value of a training batch at step 17700: 0.451941\n",
      "Loss value of a training batch at step 17800: 0.363346\n",
      "Loss value of a training batch at step 17900: 0.511457\n",
      "Loss value of a training batch at step 18000: 0.388926\n",
      "Accuracy after running 18000 steps: 0.888000\n",
      "Loss value of a training batch at step 18100: 0.512918\n",
      "Loss value of a training batch at step 18200: 0.538566\n",
      "Loss value of a training batch at step 18300: 0.440529\n",
      "Loss value of a training batch at step 18400: 0.473716\n",
      "Loss value of a training batch at step 18500: 0.519680\n",
      "Loss value of a training batch at step 18600: 0.416953\n",
      "Loss value of a training batch at step 18700: 0.325086\n",
      "Loss value of a training batch at step 18800: 0.468537\n",
      "Loss value of a training batch at step 18900: 0.537575\n",
      "Loss value of a training batch at step 19000: 0.386964\n",
      "Accuracy after running 19000 steps: 0.892400\n",
      "Loss value of a training batch at step 19100: 0.403430\n",
      "Loss value of a training batch at step 19200: 0.400301\n",
      "Loss value of a training batch at step 19300: 0.417411\n",
      "Loss value of a training batch at step 19400: 0.506205\n",
      "Loss value of a training batch at step 19500: 0.672385\n",
      "Loss value of a training batch at step 19600: 0.529585\n",
      "Loss value of a training batch at step 19700: 0.460354\n",
      "Loss value of a training batch at step 19800: 0.357077\n",
      "Loss value of a training batch at step 19900: 0.598003\n"
     ]
    }
   ],
   "source": [
    "# NOTE: You don't need to run this code snippet since we have already trained it\n",
    "# and it will consume lots of resources on our server.\n",
    "\n",
    "from tensorflow.examples.tutorials.mnist import input_data\n",
    "\n",
    "mnist = input_data.read_data_sets(\"../data/MNIST_data/\", one_hot=True)\n",
    "\n",
    "g = tf.Graph()\n",
    "with g.as_default():\n",
    "    images = tf.placeholder(tf.float32, shape=[None, 784])\n",
    "    labels = tf.placeholder(tf.float32, shape=[None, 10])\n",
    "    keep_prob = tf.placeholder(tf.float32)\n",
    "    logits, end_points = lenet(images, keep_prob)\n",
    "    \n",
    "    # Nodes for training\n",
    "    loss = tf.nn.softmax_cross_entropy_with_logits_v2(labels=labels, logits=logits)\n",
    "    train = tf.train.AdadeltaOptimizer(1e-3).minimize(loss)\n",
    "    \n",
    "    # accuracy\n",
    "    correct_prediction = tf.equal(tf.argmax(logits, 1), tf.argmax(labels, 1))\n",
    "    accuracy = tf.reduce_mean(tf.cast(correct_prediction, tf.float32))\n",
    "    \n",
    "    saver = tf.train.Saver()\n",
    "    \n",
    "    with tf.Session(graph=g) as sess:\n",
    "        sess.run(tf.global_variables_initializer())\n",
    "\n",
    "        for i in range(20000):\n",
    "            batch_xs, batch_ys = mnist.train.next_batch(50)\n",
    "            _, loss_val = sess.run([train, loss],\n",
    "                                   feed_dict={images: batch_xs,\n",
    "                                              labels: batch_ys,\n",
    "                                              keep_prob: 0.5})\n",
    "        \n",
    "            if i % 100 == 0:\n",
    "                print('Loss value of a training batch at step %5d: %f' % (i, np.mean(loss_val)))\n",
    "            if i % 1000 == 0:\n",
    "                acc = sess.run(accuracy,\n",
    "                               feed_dict={images: mnist.test.images,\n",
    "                                          labels: mnist.test.labels,\n",
    "                                          keep_prob: 1.0})\n",
    "                print('Accuracy after running %5d steps: %f' % (i, acc))\n",
    "        \n",
    "        # save the trained model\n",
    "        saver.save(sess, \"mnist_lenet_log/\")"
   ]
  },
  {
   "cell_type": "markdown",
   "metadata": {
    "collapsed": true
   },
   "source": [
    "## Exercise\n",
    "\n",
    "In this exercise, you are encouraged to visualize the intermediate feature maps after each **convolutional** layer and **max-pooling** layer. We build the skeleton in the following code snippet. You should finish the following tasks:\n",
    "\n",
    "1. Correctly identify the `end_point` tensors for all convolutional layers and max-pooling layers. These tensors can be viewed as the outputs of those layers.\n",
    "2. Collect the values of these tensors based on an input test image. You can select an image from the test dataset (`mnist.test.images`).\n",
    "3. For each tensor value, you can get the 2D image of any channel of the tensor. Hint: a tensor value is a NumPy `ndarray`.\n",
    "4. Visualize the 2D image by `plt.imshow` (https://matplotlib.org/api/_as_gen/matplotlib.pyplot.imshow.html)."
   ]
  },
  {
   "cell_type": "code",
   "execution_count": 13,
   "metadata": {},
   "outputs": [
    {
     "name": "stdout",
     "output_type": "stream",
     "text": [
      "mnist_lenet_log/: directory\r\n"
     ]
    }
   ],
   "source": [
    "# Make sure that mnist_lenet_log, the directory contains trained model, exists.\n",
    "!file mnist_lenet_log/"
   ]
  },
  {
   "cell_type": "code",
   "execution_count": 14,
   "metadata": {
    "collapsed": true
   },
   "outputs": [],
   "source": [
    "# EXERCISE VERSION\n",
    "def visualize_tensor(image, key, channel_idx, axis):\n",
    "    \"\"\"\n",
    "    Visualize a tensor in the trained LeNet model.\n",
    "    Args:\n",
    "        image: a test image\n",
    "        key: the key to the tensor in end_points\n",
    "        channel_idx: index of the channel to be visualized\n",
    "        axis: a pyplot Axis object\n",
    "    \"\"\"\n",
    "    saver = tf.train.Saver()\n",
    "\n",
    "    with g.as_default():\n",
    "        images = tf.placeholder(tf.float32, shape=[None, 784])\n",
    "        labels = tf.placeholder(tf.float32, shape=[None, 10])\n",
    "        keep_prob = tf.placeholder(tf.float32)\n",
    "        logits, end_points = lenet(images, keep_prob)\n",
    "\n",
    "        # Nodes for training\n",
    "        loss = tf.nn.softmax_cross_entropy_with_logits_v2(labels=labels, logits=logits)\n",
    "        train = tf.train.AdadeltaOptimizer(1e-3).minimize(loss)\n",
    "\n",
    "        # accuracy\n",
    "        correct_prediction = tf.equal(tf.argmax(logits, 1), tf.argmax(labels, 1))\n",
    "        accuracy = tf.reduce_mean(tf.cast(correct_prediction, tf.float32))\n",
    "\n",
    "        with tf.Session(graph=g) as sess:\n",
    "            saver.restore(sess, 'mnist_lenet_log/')\n",
    "            \n",
    "            # TODO: finish the line to get the tensor value of end_points[key]\n",
    "            tensor_val = sess.run(\"\"\"BLANK\"\"\", feed_dict={images: [image], keep_prob: 1.0})\n",
    "            \n",
    "            # TODO: get the 2D image at channel \"channel_idx\"\n",
    "            image_2d = tensor_val[0, \"\"\"BLANK\"\"\"]\n",
    "            \n",
    "            # TODO: visualize\n",
    "            axis.set_title(key)\n",
    "            axis.imshow(\"\"\"BLANK\"\"\", cmap='gray')"
   ]
  },
  {
   "cell_type": "code",
   "execution_count": 15,
   "metadata": {},
   "outputs": [
    {
     "data": {
      "image/png": "[encoded data removed]",
      "text/plain": [
       "<matplotlib.figure.Figure at 0x7f343596ccc0>"
      ]
     },
     "metadata": {},
     "output_type": "display_data"
    }
   ],
   "source": [
    "# TODO: use visualize_tensor to visualize the channel 0 of all convolutional layers and max-pooling layers of the first test image in MNIST\n",
    "fig, ax = plt.subplots(ncols=3, nrows=2, figsize=(8, 6))"
   ]
  },
  {
   "cell_type": "code",
   "execution_count": 16,
   "metadata": {
    "collapsed": true
   },
   "outputs": [],
   "source": [
    "# ANSWER VERSION\n",
    "\n",
    "def visualize_tensor(image, key, channel_idx, axis):\n",
    "    \"\"\"\n",
    "    Visualize a tensor in the trained LeNet model.\n",
    "    Args:\n",
    "        image: a test image\n",
    "        key: the key to the tensor in end_points\n",
    "        channel_idx: index of the channel to be visualized\n",
    "        axis: a pyplot Axis object\n",
    "    \"\"\"\n",
    "    g = tf.Graph()\n",
    "    with g.as_default():\n",
    "        images = tf.placeholder(tf.float32, shape=[None, 784])\n",
    "        labels = tf.placeholder(tf.float32, shape=[None, 10])\n",
    "        keep_prob = tf.placeholder(tf.float32)\n",
    "        logits, end_points = lenet(images, keep_prob)\n",
    "\n",
    "        # Nodes for training\n",
    "        loss = tf.nn.softmax_cross_entropy_with_logits_v2(labels=labels, logits=logits)\n",
    "        train = tf.train.AdadeltaOptimizer(1e-3).minimize(loss)\n",
    "\n",
    "        # accuracy\n",
    "        correct_prediction = tf.equal(tf.argmax(logits, 1), tf.argmax(labels, 1))\n",
    "        accuracy = tf.reduce_mean(tf.cast(correct_prediction, tf.float32))\n",
    "\n",
    "        saver = tf.train.Saver()\n",
    "        with tf.Session(graph=g) as sess:\n",
    "            saver.restore(sess, 'mnist_lenet_log/')\n",
    "            \n",
    "            # TODO: finish the line to get the tensor value of end_points[key]\n",
    "            tensor_val = sess.run(end_points[key], feed_dict={images: [image], keep_prob: 1.0})\n",
    "            \n",
    "            # TODO: get the 2D image at channel \"channel_idx\"\n",
    "            image_2d = tensor_val[0, :, :, channel_idx]\n",
    "            \n",
    "            # TODO: visualize\n",
    "            axis.set_title(key)\n",
    "            axis.imshow(image_2d, cmap='gray')"
   ]
  },
  {
   "cell_type": "code",
   "execution_count": 18,
   "metadata": {},
   "outputs": [
    {
     "name": "stdout",
     "output_type": "stream",
     "text": [
      "Extracting ../data/MNIST_data/train-images-idx3-ubyte.gz\n",
      "Extracting ../data/MNIST_data/train-labels-idx1-ubyte.gz\n",
      "Extracting ../data/MNIST_data/t10k-images-idx3-ubyte.gz\n",
      "Extracting ../data/MNIST_data/t10k-labels-idx1-ubyte.gz\n",
      "INFO:tensorflow:Restoring parameters from mnist_lenet_log/\n",
      "INFO:tensorflow:Restoring parameters from mnist_lenet_log/\n",
      "INFO:tensorflow:Restoring parameters from mnist_lenet_log/\n",
      "INFO:tensorflow:Restoring parameters from mnist_lenet_log/\n",
      "INFO:tensorflow:Restoring parameters from mnist_lenet_log/\n"
     ]
    },
    {
     "data": {
      "image/png": "[encoded data removed]",
      "text/plain": [
       "<matplotlib.figure.Figure at 0x7f34b0f3e9b0>"
      ]
     },
     "metadata": {},
     "output_type": "display_data"
    }
   ],
   "source": [
    "from tensorflow.examples.tutorials.mnist import input_data\n",
    "\n",
    "mnist = input_data.read_data_sets(\"../data/MNIST_data/\", one_hot=True)\n",
    "\n",
    "# TODO: visualize image\n",
    "fig, ax = plt.subplots(ncols=3, nrows=2, figsize=(8, 6))\n",
    "\n",
    "visualize_tensor(mnist.test.images[0], 'images', 0, ax[0, 0])\n",
    "visualize_tensor(mnist.test.images[0], 'conv1', 0, ax[0, 1])\n",
    "visualize_tensor(mnist.test.images[0], 'pool1', 0, ax[0, 2])\n",
    "visualize_tensor(mnist.test.images[0], 'conv2', 0, ax[1, 0])\n",
    "visualize_tensor(mnist.test.images[0], 'pool2', 0, ax[1, 1])"
   ]
  },
  {
   "cell_type": "code",
   "execution_count": null,
   "metadata": {
    "collapsed": true
   },
   "outputs": [],
   "source": []
  }
 ],
 "metadata": {
  "kernelspec": {
   "display_name": "Python 3",
   "language": "python",
   "name": "python3"
  },
  "language_info": {
   "codemirror_mode": {
    "name": "ipython",
    "version": 3
   },
   "file_extension": ".py",
   "mimetype": "text/x-python",
   "name": "python",
   "nbconvert_exporter": "python",
   "pygments_lexer": "ipython3",
   "version": "3.6.4"
  }
 },
 "nbformat": 4,
 "nbformat_minor": 2
}
